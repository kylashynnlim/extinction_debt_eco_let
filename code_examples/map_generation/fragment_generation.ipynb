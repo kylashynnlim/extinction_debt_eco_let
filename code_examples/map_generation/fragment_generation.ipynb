{
 "cells": [
  {
   "cell_type": "markdown",
   "metadata": {},
   "source": [
    "# Main Fragmented Landscapes Pipeline\n",
    "\n",
    "A big pipeline to run all the simulations in a single, parrelised way\n",
    "\n",
    "The intention here is that we run across 5 different sizes: 50x50, 500x500 and 5000x5000\n",
    "\n",
    "In each case, we run across a selection of real landscapes, random landscapes and contrived landscapes, for 10, 25 and 50% habitat cover.\n",
    "\n",
    "The real landscapes are created by finding real areas of habitat in the amazon which are close to the desired habitat cover across the desired area, and generating maps with precisely the desired habitat cover from there.\n",
    "\n",
    "The random landscapes area created by randomly adding pixels until we reach our desired landscape cover.\n",
    "\n",
    "The contrived landscapes are created using the FragmentedLandscape class from pycoalescence, which generates evenly-spaced, evenly-sized fragments across a landscape of the desired size, with the specified total habitat coverage."
   ]
  },
  {
   "cell_type": "code",
   "execution_count": 6,
   "metadata": {},
   "outputs": [],
   "source": [
    "import os\n",
    "from fragment_generation import extract_landscape\n",
    "import numpy as np\n",
    "from pycoalescence import Map\n",
    "from random import randint\n",
    "from osgeo import gdal"
   ]
  },
  {
   "cell_type": "code",
   "execution_count": 8,
   "metadata": {},
   "outputs": [],
   "source": [
    "def write_to_raster(grid: np.array, file):\n",
    "\t\"\"\"\n",
    "\tWrites numpy array to desired file\n",
    "\t:param arr: the numpy array to write to file\n",
    "\t:param file: file to output to\n",
    "\t\"\"\"\n",
    "\tgeotransform = (0, 1, 0, 0, 0, -1)\n",
    "\t# Stupid attempt to fix the no data issue for writing out numpy arrays\n",
    "\tfor i in range(max(grid.shape)):\n",
    "\t\tif grid[i,i] == 0:\n",
    "\t\t\tgrid[i,i] == 0\n",
    "\toutput_raster = gdal.GetDriverByName('GTiff').Create(file,\n",
    "\t\t\t\t\t\t\t\t\t\t\t\t\t\t grid.shape[0], grid.shape[1], 1,\n",
    "\t\t\t\t\t\t\t\t\t\t\t\t\t\t gdal.GDT_Byte)\n",
    "\toutput_raster.SetGeoTransform(geotransform)\n",
    "\tout_band = output_raster.GetRasterBand(1)\n",
    "\tout_band.WriteArray(grid)\n",
    "\tout_band.FlushCache()\n",
    "\tout_band.SetNoDataValue(-99)\n",
    "\tdel output_raster"
   ]
  },
  {
   "cell_type": "code",
   "execution_count": 4,
   "metadata": {
    "collapsed": false
   },
   "outputs": [
    {
     "name": "stdout",
     "output_type": "stream",
     "text": [
      "0.1\n",
      "0.25\n",
      "0.5\n",
      "0.1\n",
      "0.25\n",
      "0.5\n"
     ]
    }
   ],
   "source": [
    "# Okay, so first let's generate the real landscapes.\n",
    "out_dir = \"../../Data/Maps/FragmentMaps/CentralAmericaExtractions/\"\n",
    "if not os.path.exists(out_dir):\n",
    "\tos.mkdir(out_dir)\n",
    "global ca_forest\n",
    "ca_forest = None\n",
    "for size in [50, 500]:\n",
    "\tfor cover in [0.1, 0.25, 0.5]:\n",
    "\t\tprint(cover)\n",
    "\t\tfor file_no in range(100):\n",
    "\t\t\tfile_name = os.path.join(out_dir, \"map_{}_{}_{}.tif\".format(size, cover, file_no))\n",
    "\t\t\tif not os.path.exists(file_name):\n",
    "\t\t\t\textract_landscape(desired_cover=cover, size=size, number=100, output_dir=out_dir)\n",
    "\t\t\t\tbreak"
   ]
  },
  {
   "cell_type": "code",
   "execution_count": 9,
   "metadata": {},
   "outputs": [],
   "source": [
    "# Now stitch random 500x500 maps together for the 5000x5000 ones.\n",
    "map_list_500_01 = [x for x in os.listdir(out_dir) if \"500_0.1\" in x]\n",
    "map_list_500_02 = [x for x in os.listdir(out_dir) if \"500_0.2\" in x]\n",
    "all_maps = {0.1: map_list_500_01, 0.2: map_list_500_02}\n",
    "# create 10 random maps for each percentage cover\n",
    "for pc in [0.1, 0.2]:\n",
    "\tmap_list = all_maps[pc]\n",
    "\tfor i in range(10):\n",
    "\t\ttmp = np.empty(shape=[5000, 5000])\n",
    "\t\tfor x in range(0, 5000, 500):\n",
    "\t\t\tfor y in range(0, 5000, 500):\n",
    "\t\t\t\trandom_map = map_list[randint(0, len(map_list) - 1)]\n",
    "\t\t\t\tm = Map(file=os.path.join(out_dir, random_map))\n",
    "\t\t\t\ttmp[x:x+500, y:y+500] = m.get_subset(0, 0, 500, 500)\n",
    "\t\tout_file = os.path.join(out_dir, \"map_5000_{}_{}.tif\".format(pc, i))\n",
    "\t\twrite_to_raster(tmp, out_file)"
   ]
  }
 ],
 "metadata": {
  "kernelspec": {
   "display_name": "Python 3",
   "language": "python",
   "name": "python3"
  },
  "language_info": {
   "codemirror_mode": {
    "name": "ipython",
    "version": 3
   },
   "file_extension": ".py",
   "mimetype": "text/x-python",
   "name": "python",
   "nbconvert_exporter": "python",
   "pygments_lexer": "ipython3",
   "version": "3.7.3"
  }
 },
 "nbformat": 4,
 "nbformat_minor": 2
}
