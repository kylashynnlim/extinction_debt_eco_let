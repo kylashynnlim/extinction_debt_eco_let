{
 "cells": [
  {
   "cell_type": "code",
   "execution_count": 1,
   "metadata": {
    "collapsed": true
   },
   "outputs": [],
   "source": [
    "import os\n",
    "from pycoalescence import FragmentedLandscape"
   ]
  },
  {
   "cell_type": "code",
   "execution_count": 3,
   "metadata": {
    "collapsed": true
   },
   "outputs": [],
   "source": [
    "output_dir = \"/Volumes/Seagate 3TB/Data/Maps/FragmentMaps/Contrived/\"\n",
    "for size in [50, 500, 5000]:\n",
    "\tfor pc in [0.1, 0.2, 0.4]:\n",
    "\t\tnum_frags = 1\n",
    "\t\ttotal = int(size * size * pc)\n",
    "\t\twhile num_frags < total:\n",
    "\t\t\toutput_file = os.path.join(output_dir, \"contrived_{}_{}_{}.tif\".format(size, pc, num_frags))\n",
    "\t\t\tif not os.path.exists(output_file):\n",
    "\t\t\t\tf = FragmentedLandscape(size=size, number_fragments=num_frags, total=total,\n",
    "\t\t\t\t\t\t\t\t\t\toutput_file=output_file)\n",
    "\t\t\t\tf.generate()\n",
    "\t\t\tnum_frags *= 2"
   ]
  }
 ],
 "metadata": {
  "kernelspec": {
   "display_name": "Python 2",
   "language": "python",
   "name": "python2"
  },
  "language_info": {
   "codemirror_mode": {
    "name": "ipython",
    "version": 2
   },
   "file_extension": ".py",
   "mimetype": "text/x-python",
   "name": "python",
   "nbconvert_exporter": "python",
   "pygments_lexer": "ipython2",
   "version": "2.7.6"
  }
 },
 "nbformat": 4,
 "nbformat_minor": 0
}
