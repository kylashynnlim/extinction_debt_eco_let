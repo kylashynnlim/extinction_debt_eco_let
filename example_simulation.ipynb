{
 "cells": [
  {
   "cell_type": "markdown",
   "metadata": {
    "collapsed": true
   },
   "source": [
    "## Example spatially explicit neutral model simulation\n",
    "\n",
    "This notebook is intended as an example of how the data contained in results was generated. As many thousands of simulations were performed to generate the result set using high throughput computing systems at Imperial College London, the full code for performing these simulations cannot be run locally. "
   ]
  },
  {
   "cell_type": "code",
   "execution_count": 1,
   "metadata": {},
   "outputs": [],
   "source": [
    "import os\n",
    "from pycoalescence import Simulation, CoalescenceTree, Map, DispersalSimulation\n",
    "import pandas as pd"
   ]
  },
  {
   "cell_type": "code",
   "execution_count": 2,
   "metadata": {},
   "outputs": [],
   "source": [
    "# Set the map file variable - in the main simulation pipeline, this would be changed to iterate\n",
    "# over all required files\n",
    "map_file = os.path.join(\"data\", \"map_50_0.2_0.tif\")\n",
    "output_dir = os.path.join(\"results\", \"example\")\n",
    "# This variable would change depending on the type of the map file\n",
    "sim_type = \"real\""
   ]
  },
  {
   "cell_type": "code",
   "execution_count": 3,
   "metadata": {},
   "outputs": [],
   "source": [
    "# reference variable for file naming\n",
    "job_number = 1 \n",
    "# list containing output data\n",
    "output = []\n",
    "# Set the random seed\n",
    "seed = 1\n",
    "for sigma in [2, 4, 8, 16, 32]:\n",
    "\tsim = Simulation(logging_level=50)\n",
    "\tsim.set_simulation_parameters(seed=seed, job_type=job_number,\n",
    "\t\t\t\t\t\t\t\t  output_directory=output_dir,\n",
    "\t\t\t\t\t\t\t\t  min_speciation_rate=0.0001, sigma=sigma, deme=1, sample_size=1.0,\n",
    "\t\t\t\t\t\t\t\t  max_time=70 * 60 * 60, dispersal_method=\"normal\",\n",
    "\t\t\t\t\t\t\t\t  landscape_type=\"tiled_fine\")\n",
    "\tsim.set_speciation_rates([0.0001, 0.001, 0.01, 0.1])\n",
    "\tsim.set_map_files(sample_file=\"null\", fine_file=map_file)\n",
    "\t# Remove the output, if it already exists\n",
    "\tif os.path.exists(sim.output_database):\n",
    "\t\tos.remove(sim.output_database)\n",
    "\t# Run the simulation\n",
    "\tsim.run()\n",
    "\t# Extract the species richness for each speciation rate and append it to the output \n",
    "\tt = CoalescenceTree(sim)\n",
    "\tfor ref in t.get_community_references():\n",
    "\t\trichness = t.get_species_richness(ref)\n",
    "\t\toutput.append({\"file\" : map_file, \"seed\" : seed, \"job_type\" : job_number, \"sigma\" : sigma,\n",
    "\t\t\t\t\t   \"speciation_rate\" : t.get_community_parameters(ref)[\"speciation_rate\"],\n",
    "\t\t\t\t\t   \"richness\" : richness, \"type\" : sim_type\n",
    "\t\t\t\t\t   })\n",
    "\tseed += 1\n",
    "# Write the output to a csv (using a pandas data frame)\n",
    "output_df = pd.DataFrame(output)\n",
    "output_df.to_csv(os.path.join(output_dir, \"variable_sizes_{}.csv\".format(job_number)))"
   ]
  },
  {
   "cell_type": "markdown",
   "metadata": {},
   "source": [
    "## Example dispersal simulation\n",
    "\n",
    "Example of the dispersal simulation (the calculation of the $\\mu_n$ metric required for $\\sigma_e$\n",
    "(and therefore $c_e$)."
   ]
  },
  {
   "cell_type": "code",
   "execution_count": 6,
   "metadata": {
    "collapsed": true
   },
   "outputs": [],
   "source": [
    "output = []\n",
    "seed = 1\n",
    "output_file = os.path.join(output_dir, \"dispersal_{}_{}.db\".format(sim_type, seed))\n",
    "if os.path.exists(output_file):\n",
    "\tos.remove(output_file)\n",
    "d = DispersalSimulation(logging_level=50)\n",
    "d.set_simulation_parameters(number_repeats=100, output_database=output_file,\n",
    "\t\t\t\t\t\t\tnumber_steps=10000, seed=seed, sigma=2, \n",
    "\t\t\t\t\t\t\tlandscape_type=\"tiled_fine\")\n",
    "\n",
    "d.set_map(map_file)\n",
    "# Get the dimensions of the map\n",
    "m = Map(map_file)\n",
    "x, y = m.get_x_y()\n",
    "a_max = x * y\n",
    "# Remove the output database, if it exists\n",
    "for sigma in [2, 4, 8, 16, 32]:\n",
    "\td.update_parameters(sigma=sigma)\n",
    "\td.run_mean_distance_travelled()\n",
    "for ref in d.get_database_references():\n",
    "\tparams = d.get_database_parameters(ref)\n",
    "\tdistance = d.get_mean_distance_travelled()\n",
    "\tsigma = params[\"sigma\"]\n",
    "\toutput.append({\"type\" : sim_type, \"file\" : map_file, \"sigma\" : sigma, \n",
    "\t\t\t\t   \"mean_distance_10000\" : distance, \"a_max\" : a_max})\n",
    "output_df = pd.DataFrame(output)\n",
    "output_df.to_csv(os.path.join(output_dir, \"variable_sizes_dispersal_{}.csv\".format(job_number)))"
   ]
  },
  {
   "cell_type": "code",
   "execution_count": null,
   "metadata": {},
   "outputs": [],
   "source": []
  }
 ],
 "metadata": {
  "kernelspec": {
   "display_name": "Python 2",
   "language": "python",
   "name": "python2"
  },
  "language_info": {
   "codemirror_mode": {
    "name": "ipython",
    "version": 2
   },
   "file_extension": ".py",
   "mimetype": "text/x-python",
   "name": "python",
   "nbconvert_exporter": "python",
   "pygments_lexer": "ipython2",
   "version": "2.7.6"
  }
 },
 "nbformat": 4,
 "nbformat_minor": 0
}
